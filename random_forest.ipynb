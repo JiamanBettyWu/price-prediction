{
 "cells": [
  {
   "cell_type": "markdown",
   "metadata": {},
   "source": [
    "May 28, 2019 -- Tuesday update:\n",
    "\n",
    "Ran random forest model, mse: 0.6324529753033673\n",
    "\n",
    "Next steps:\n",
    "\n",
    "+ add description length to the model (modify them into a function)\n",
    "+ use pd.get_dummies() instead\n",
    "+ use lasso, ridge  \n",
    "+ look into non-linear models (CNN)"
   ]
  },
  {
   "cell_type": "code",
   "execution_count": 19,
   "metadata": {},
   "outputs": [],
   "source": [
    "import pandas as pd\n",
    "import math\n",
    "import numpy as np\n",
    "\n",
    "\n",
    "from sklearn import preprocessing\n",
    "from sklearn.preprocessing import OneHotEncoder\n",
    "from sklearn.feature_extraction.text import TfidfVectorizer\n",
    "\n",
    "\n",
    "from sklearn.linear_model import LinearRegression\n",
    "from sklearn.ensemble import RandomForestRegressor\n",
    "\n",
    "from sklearn.metrics import mean_squared_error\n"
   ]
  },
  {
   "cell_type": "code",
   "execution_count": 60,
   "metadata": {},
   "outputs": [],
   "source": [
    "# Read data \n",
    "\n",
    "train = pd.read_csv(\"data/train.tsv\", delimiter = \"\\t\", encoding = \"utf-8\", index_col = False)\n",
    "train_df = train.iloc[:5000, :]\n",
    "test_df = train.iloc[5000:8000, :]"
   ]
  },
  {
   "cell_type": "code",
   "execution_count": null,
   "metadata": {},
   "outputs": [],
   "source": [
    "# Add this to a function !!!!\n",
    "\n",
    "train_df[\"length\"] = [len(x) for x in train_df[\"item_description\"]]\n",
    "train_df.loc[train_df[\"item_description\"] == \"No description yet\", \"length\"] = 0"
   ]
  },
  {
   "cell_type": "code",
   "execution_count": 12,
   "metadata": {},
   "outputs": [],
   "source": [
    "def missing_value(df):\n",
    "    \"\"\"\n",
    "    Handeling any missing value in the dataframe.\n",
    "    \"\"\"\n",
    "    df[\"item_description\"][df['item_description'] == \"No description yet\"] = \"None\"\n",
    "    return df.fillna(\"None\")\n",
    "\n",
    "def split_label(cat):\n",
    "    \"\"\"\n",
    "    This function splits the category into three sub categories.\n",
    "    \"\"\"\n",
    "    cat_split = cat.str.split(\"/\",n = 2,expand = True)\n",
    "    cat_split = cat_split.rename(index = str,columns = {0:'cat1',1:'cat2',2:'cat3'})\n",
    "    cat_split = cat_split.fillna(\"None\")\n",
    "    \n",
    "    return cat_split\n",
    "\n",
    "\n",
    "def variable_process(df):\n",
    "\n",
    "\n",
    "    sub_cats = split_label(df[\"category_name\"])\n",
    "    \n",
    "    columns = (df[[\"shipping\"]].values, df[[\"brand_name\"]].values, df[[\"item_condition_id\"]].values, sub_cats.values)\n",
    "    columns_names = (\"shipping\", \"brand_name\", \"item_condition\", \"cat1\", \"cat2\", \"cat3\")\n",
    "\n",
    "\n",
    "    return pd.DataFrame(np.concatenate(columns, axis = 1), columns = columns_names)\n",
    "    \n",
    "\n",
    "def encode(sub_cat_train, sub_cat_test):\n",
    "    \"\"\"\n",
    "    This function one hot encode category variables for the training set and the testing set.\n",
    "    \"\"\"\n",
    "    \n",
    "    from sklearn.preprocessing import OneHotEncoder\n",
    "    \n",
    "    onehotencoder = OneHotEncoder(handle_unknown='ignore')\n",
    "    \n",
    "    one_hot_train = onehotencoder.fit_transform(sub_cat_train.values).toarray()\n",
    "\n",
    "    one_hot_test = onehotencoder.transform(sub_cat_test.values).toarray()\n",
    "    \n",
    "    return [one_hot_train, one_hot_test]\n",
    "    \n",
    "\n",
    "def label_encoder(sub_cat_train, sub_cat_test):\n",
    "    \n",
    "    from sklearn import preprocessing\n",
    "    le = preprocessing.LabelEncoder()\n",
    "    \n",
    "    label_train = le.fit_transform(sub_cat_train.astype(str))\n",
    "    label_test = le.transform(sub_cat_test.astype(str))\n",
    "    \n",
    "    return [label_train, label_test]\n",
    "    \n",
    "\n",
    "def price(df):\n",
    "    price = df['price'].values\n",
    "    return np.log(price+1)\n",
    "    "
   ]
  },
  {
   "cell_type": "code",
   "execution_count": 62,
   "metadata": {},
   "outputs": [],
   "source": [
    "train_df[\"item_description\"].replace(\"No description yet\", None, inplace= True)"
   ]
  },
  {
   "cell_type": "code",
   "execution_count": 80,
   "metadata": {},
   "outputs": [
    {
     "name": "stderr",
     "output_type": "stream",
     "text": [
      "/anaconda3/lib/python3.7/site-packages/ipykernel_launcher.py:1: SettingWithCopyWarning: \n",
      "A value is trying to be set on a copy of a slice from a DataFrame.\n",
      "Try using .loc[row_indexer,col_indexer] = value instead\n",
      "\n",
      "See the caveats in the documentation: http://pandas.pydata.org/pandas-docs/stable/indexing.html#indexing-view-versus-copy\n",
      "  \"\"\"Entry point for launching an IPython kernel.\n"
     ]
    }
   ],
   "source": []
  },
  {
   "cell_type": "code",
   "execution_count": 86,
   "metadata": {},
   "outputs": [],
   "source": []
  },
  {
   "cell_type": "code",
   "execution_count": null,
   "metadata": {},
   "outputs": [],
   "source": []
  },
  {
   "cell_type": "code",
   "execution_count": null,
   "metadata": {},
   "outputs": [],
   "source": []
  },
  {
   "cell_type": "code",
   "execution_count": 88,
   "metadata": {},
   "outputs": [],
   "source": [
    "train_df_label = variable_process(train_df)\n",
    "test_df_label = variable_process(test_df)\n",
    "\n",
    "sub_cats_train = split_label(train_df[\"category_name\"])\n",
    "sub_cats_test = split_label(test_df[\"category_name\"])\n",
    "\n"
   ]
  },
  {
   "cell_type": "code",
   "execution_count": 90,
   "metadata": {},
   "outputs": [],
   "source": [
    "train_df_label = variable_process(train_df)\n",
    "test_df_label = variable_process(test_df)\n"
   ]
  },
  {
   "cell_type": "code",
   "execution_count": 8,
   "metadata": {},
   "outputs": [],
   "source": [
    "train_df = missing_value(train_df)\n",
    "test_df = missing_value(test_df)\n",
    "\n",
    "train_df_label = variable_process(train_df)\n",
    "test_df_label = variable_process(test_df)\n",
    "\n",
    "sub_cats_train = split_label(train_df[\"category_name\"])\n",
    "sub_cats_test = split_label(test_df[\"category_name\"])\n",
    "\n",
    "#X = encode(train_df_label, test_df_label)"
   ]
  },
  {
   "cell_type": "code",
   "execution_count": 31,
   "metadata": {},
   "outputs": [
    {
     "data": {
      "text/plain": [
       "Index(['shipping', 'brand_name', 'item_condition', 'cat1', 'cat2', 'cat3'], dtype='object')"
      ]
     },
     "execution_count": 31,
     "metadata": {},
     "output_type": "execute_result"
    }
   ],
   "source": [
    "train_df_label.columns"
   ]
  },
  {
   "cell_type": "code",
   "execution_count": 11,
   "metadata": {},
   "outputs": [],
   "source": []
  },
  {
   "cell_type": "code",
   "execution_count": 20,
   "metadata": {},
   "outputs": [
    {
     "data": {
      "text/plain": [
       "RandomForestRegressor(bootstrap=True, criterion='mse', max_depth=None,\n",
       "           max_features='auto', max_leaf_nodes=None,\n",
       "           min_impurity_decrease=0.0, min_impurity_split=None,\n",
       "           min_samples_leaf=1, min_samples_split=2,\n",
       "           min_weight_fraction_leaf=0.0, n_estimators=1000, n_jobs=None,\n",
       "           oob_score=False, random_state=42, verbose=0, warm_start=False)"
      ]
     },
     "execution_count": 20,
     "metadata": {},
     "output_type": "execute_result"
    }
   ],
   "source": [
    "# Instantiate model with 1000 decision trees\n",
    "rf = RandomForestRegressor(n_estimators = 1000, random_state = 42)\n",
    "\n",
    "# Train the model on training data\n",
    "rf.fit(X[0], y)"
   ]
  },
  {
   "cell_type": "code",
   "execution_count": 21,
   "metadata": {},
   "outputs": [],
   "source": [
    "predictions = rf.predict(X[1])"
   ]
  },
  {
   "cell_type": "code",
   "execution_count": 37,
   "metadata": {},
   "outputs": [],
   "source": [
    "rf_100 = RandomForestRegressor(n_estimators = 100, random_state = 42)\n",
    "\n",
    "# Train the model on training data\n",
    "rf_100.fit(X[0], y)\n",
    "\n",
    "predictions = rf_100.predict(X[1])"
   ]
  },
  {
   "cell_type": "code",
   "execution_count": 38,
   "metadata": {},
   "outputs": [
    {
     "data": {
      "text/plain": [
       "0.63335590999125"
      ]
     },
     "execution_count": 38,
     "metadata": {},
     "output_type": "execute_result"
    }
   ],
   "source": [
    "np.sqrt(mean_squared_error(actual, predictions))"
   ]
  },
  {
   "cell_type": "code",
   "execution_count": 32,
   "metadata": {},
   "outputs": [],
   "source": [
    "feature_list = list(train_df_label.columns)"
   ]
  },
  {
   "cell_type": "code",
   "execution_count": 39,
   "metadata": {},
   "outputs": [
    {
     "name": "stdout",
     "output_type": "stream",
     "text": [
      "Variable: shipping             Importance: 0.06\n",
      "Variable: brand_name           Importance: 0.01\n",
      "Variable: item_condition       Importance: 0.0\n",
      "Variable: cat1                 Importance: 0.0\n",
      "Variable: cat2                 Importance: 0.0\n",
      "Variable: cat3                 Importance: 0.0\n"
     ]
    }
   ],
   "source": [
    "# Get numerical feature importances\n",
    "importances = list(rf.feature_importances_)\n",
    "\n",
    "# List of tuples with variable and importance\n",
    "feature_importances = [(feature, round(importance, 2)) for feature, importance in zip(feature_list, importances)]\n",
    "\n",
    "# Sort the feature importances by most important first\n",
    "feature_importances = sorted(feature_importances, key = lambda x: x[1], reverse = True)\n",
    "\n",
    "# Print out the feature and importances \n",
    "[print('Variable: {:20} Importance: {}'.format(*pair)) for pair in feature_importances];"
   ]
  },
  {
   "cell_type": "code",
   "execution_count": null,
   "metadata": {},
   "outputs": [],
   "source": []
  },
  {
   "cell_type": "code",
   "execution_count": null,
   "metadata": {},
   "outputs": [],
   "source": []
  },
  {
   "cell_type": "code",
   "execution_count": null,
   "metadata": {},
   "outputs": [],
   "source": []
  },
  {
   "cell_type": "code",
   "execution_count": 14,
   "metadata": {},
   "outputs": [],
   "source": [
    "y = price(train_df)\n",
    "reg = LinearRegression().fit(X[0], y)"
   ]
  },
  {
   "cell_type": "code",
   "execution_count": 15,
   "metadata": {},
   "outputs": [
    {
     "data": {
      "text/plain": [
       "0.5052529635134537"
      ]
     },
     "execution_count": 15,
     "metadata": {},
     "output_type": "execute_result"
    }
   ],
   "source": [
    "reg.score(X[0], y)"
   ]
  },
  {
   "cell_type": "code",
   "execution_count": 23,
   "metadata": {},
   "outputs": [],
   "source": [
    "#result = reg.predict(X[1])\n",
    "actual = price(test_df)"
   ]
  },
  {
   "cell_type": "code",
   "execution_count": 25,
   "metadata": {},
   "outputs": [
    {
     "data": {
      "text/plain": [
       "array([2.2422681 , 2.90262803, 2.28540515, ..., 2.62711602, 2.80163705,\n",
       "       2.06954195])"
      ]
     },
     "execution_count": 25,
     "metadata": {},
     "output_type": "execute_result"
    }
   ],
   "source": [
    "predictions"
   ]
  },
  {
   "cell_type": "code",
   "execution_count": 26,
   "metadata": {},
   "outputs": [
    {
     "data": {
      "text/plain": [
       "array([2.77258872, 3.93182563, 1.60943791, ..., 2.77258872, 2.39789527,\n",
       "       1.79175947])"
      ]
     },
     "execution_count": 26,
     "metadata": {},
     "output_type": "execute_result"
    }
   ],
   "source": [
    "actual"
   ]
  },
  {
   "cell_type": "code",
   "execution_count": 24,
   "metadata": {},
   "outputs": [
    {
     "data": {
      "text/plain": [
       "0.6324529753033673"
      ]
     },
     "execution_count": 24,
     "metadata": {},
     "output_type": "execute_result"
    }
   ],
   "source": [
    "np.sqrt(mean_squared_error(actual, predictions))"
   ]
  },
  {
   "cell_type": "code",
   "execution_count": null,
   "metadata": {},
   "outputs": [],
   "source": []
  },
  {
   "cell_type": "code",
   "execution_count": 21,
   "metadata": {},
   "outputs": [],
   "source": [
    "from sklearn.decomposition import PCA\n",
    "pca = PCA(n_components=2)\n",
    "transformed = pca.fit_transform(X[0])"
   ]
  },
  {
   "cell_type": "code",
   "execution_count": 54,
   "metadata": {},
   "outputs": [
    {
     "data": {
      "text/plain": [
       "<matplotlib.legend.Legend at 0x1a224ea0f0>"
      ]
     },
     "execution_count": 54,
     "metadata": {},
     "output_type": "execute_result"
    },
    {
     "data": {
      "image/png": "[encoded data removed]",
      "text/plain": [
       "<Figure size 432x288 with 1 Axes>"
      ]
     },
     "metadata": {
      "needs_background": "light"
     },
     "output_type": "display_data"
    }
   ],
   "source": [
    "sns.scatterplot(transformed[:,0], transformed[:,1], hue = train_df[\"price_label\"], alpha = 0.5)\n",
    "plt.legend(bbox_to_anchor=(1.05, 1), loc=2, borderaxespad=0.)"
   ]
  },
  {
   "cell_type": "code",
   "execution_count": 37,
   "metadata": {},
   "outputs": [],
   "source": [
    "from sklearn.decomposition import KernelPCA\n",
    "\n",
    "transformer = KernelPCA(n_components=2, kernel = 'sigmoid', gamma = 0.5) \n",
    "transformed_kpca= transformer.fit_transform(X[0])"
   ]
  },
  {
   "cell_type": "code",
   "execution_count": 43,
   "metadata": {},
   "outputs": [],
   "source": [
    "train_df[\"price_label\"] = pd.cut(y, 5, labels= [\"very cheap\", \"cheap\", \"Medium\", \"expensive\", \"very expensive\"])"
   ]
  },
  {
   "cell_type": "code",
   "execution_count": 48,
   "metadata": {},
   "outputs": [
    {
     "data": {
      "text/plain": [
       "<matplotlib.legend.Legend at 0x1a212ab7f0>"
      ]
     },
     "execution_count": 48,
     "metadata": {},
     "output_type": "execute_result"
    },
    {
     "data": {
      "image/png": "[encoded data removed]",
      "text/plain": [
       "<Figure size 432x288 with 1 Axes>"
      ]
     },
     "metadata": {
      "needs_background": "light"
     },
     "output_type": "display_data"
    }
   ],
   "source": [
    "\n",
    "import matplotlib.pyplot as plt\n",
    "import seaborn as sns\n",
    "%matplotlib inline\n",
    "\n",
    "# pca = PCA(n_components=2)\n",
    "# transformed = pca.fit_transform(X[0])\n",
    "\n",
    "\n",
    "\n",
    "sns.scatterplot(transformed_kpca[:,0], transformed_kpca[:,1], hue = train_df[\"price_label\"], alpha = 0.5)\n",
    "plt.legend(bbox_to_anchor=(1.05, 1), loc=2, borderaxespad=0.)\n",
    "# plt.colorbar(train_df[\"price\"])\n",
    "\n",
    "\n",
    "# points = plt.scatter(transformed[:,0], transformed[:,1],\n",
    "#                      c = train_df[\"price_label\"].astype(str) ) #set style options\n",
    "\n",
    "#add a color bar\n",
    "#plt.colorbar(points)"
   ]
  },
  {
   "cell_type": "code",
   "execution_count": 51,
   "metadata": {},
   "outputs": [],
   "source": [
    "from sklearn.manifold import TSNE\n",
    "transformed_tsne = TSNE(n_components=2).fit_transform(X[0])\n"
   ]
  },
  {
   "cell_type": "code",
   "execution_count": null,
   "metadata": {},
   "outputs": [],
   "source": []
  }
 ],
 "metadata": {
  "kernelspec": {
   "display_name": "Python 3",
   "language": "python",
   "name": "python3"
  },
  "language_info": {
   "codemirror_mode": {
    "name": "ipython",
    "version": 3
   },
   "file_extension": ".py",
   "mimetype": "text/x-python",
   "name": "python",
   "nbconvert_exporter": "python",
   "pygments_lexer": "ipython3",
   "version": "3.7.1"
  }
 },
 "nbformat": 4,
 "nbformat_minor": 2
}
